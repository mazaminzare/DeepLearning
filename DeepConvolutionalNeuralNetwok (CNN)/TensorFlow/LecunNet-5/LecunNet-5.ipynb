{
  "cells": [
    {
      "cell_type": "code",
      "execution_count": 1,
      "metadata": {
        "colab": {
          "base_uri": "https://localhost:8080/"
        },
        "id": "qETiTk3Woq0k",
        "outputId": "efceeb0a-6c63-4fed-d69a-015b8ac929a9"
      },
      "outputs": [
        {
          "name": "stdout",
          "output_type": "stream",
          "text": [
            "Looking in indexes: https://pypi.org/simple, https://us-python.pkg.dev/colab-wheels/public/simple/\n",
            "Collecting tensorflow-addons\n",
            "  Downloading tensorflow_addons-0.19.0-cp38-cp38-manylinux_2_17_x86_64.manylinux2014_x86_64.whl (1.1 MB)\n",
            "\u001b[2K     \u001b[90m━━━━━━━━━━━━━━━━━━━━━━━━━━━━━━━━━━━━━━━━\u001b[0m \u001b[32m1.1/1.1 MB\u001b[0m \u001b[31m15.7 MB/s\u001b[0m eta \u001b[36m0:00:00\u001b[0m\n",
            "\u001b[?25hRequirement already satisfied: typeguard>=2.7 in /usr/local/lib/python3.8/dist-packages (from tensorflow-addons) (2.7.1)\n",
            "Requirement already satisfied: packaging in /usr/local/lib/python3.8/dist-packages (from tensorflow-addons) (23.0)\n",
            "Installing collected packages: tensorflow-addons\n",
            "Successfully installed tensorflow-addons-0.19.0\n"
          ]
        }
      ],
      "source": [
        "# Import and install requierd package\n",
        "import tensorflow as tf\n",
        "import matplotlib.pyplot as plt\n",
        "from keras import datasets, layers, models, losses\n",
        "!pip install tensorflow-addons\n",
        "import tensorflow_addons as tfa\n",
        "import pandas as pd"
      ]
    },
    {
      "cell_type": "code",
      "execution_count": 2,
      "metadata": {
        "id": "nPEVXf2T2vWC"
      },
      "outputs": [],
      "source": [
        "# Utility Functions\n",
        "def average(input_data):\n",
        "    return sum(input_data)/len(input_data)\n",
        "\n",
        "def train_result(history, module_type='Train'):\n",
        "  results = {\n",
        "      'Loss' : average(history.history['loss']) ,\n",
        "      'Accuracy' : average(history.history['accuracy']),\n",
        "      'Precision' : average(history.history['precision']),\n",
        "      'Recall' : average(history.history['recall']),\n",
        "      'F1 Score' : average(history.history['f1_score']),\n",
        "      'Specificity': average(history.history['specificity_at_sensitivity']),\n",
        "      'Mean Absolute Error': average(history.history['mean_absolute_error']),\n",
        "      'R2 Score' : average(history.history['r_square']),\n",
        "      }\n",
        "  return pd.DataFrame.from_dict(results, orient=\"index\", columns=[module_type])\n",
        "\n",
        "def test_result(history, module_type='Train'):\n",
        "  results = {\n",
        "      'Loss' : history[0] ,\n",
        "      'Accuracy' : history[1],\n",
        "      'Precision' : history[2],\n",
        "      'Recall' :history[3],\n",
        "      'F1 Score' : history[4],\n",
        "      'Specificity': history[5],\n",
        "      'Mean Absolute Error': history[6],\n",
        "      'R2 Score' : history[7],\n",
        "      }\n",
        "  return pd.DataFrame.from_dict(results, orient=\"index\", columns=[module_type])"
      ]
    },
    {
      "cell_type": "code",
      "execution_count": 3,
      "metadata": {
        "colab": {
          "base_uri": "https://localhost:8080/"
        },
        "id": "qux7uJr5pzoL",
        "outputId": "33ac2c84-58e2-412f-9a25-cac6e085026e"
      },
      "outputs": [
        {
          "name": "stdout",
          "output_type": "stream",
          "text": [
            "Downloading data from https://storage.googleapis.com/tensorflow/tf-keras-datasets/mnist.npz\n",
            "11490434/11490434 [==============================] - 0s 0us/step\n"
          ]
        }
      ],
      "source": [
        "# Load Mnist Dataset\n",
        "(x_train, y_train), (x_test, y_test) = datasets.mnist.load_data()\n",
        "x_train = tf.pad(x_train, [[0, 0], [2, 2], [2, 2]]) / 255\n",
        "x_test = tf.pad(x_test, [[0, 0], [2, 2], [2, 2]]) / 255\n",
        "x_train = tf.expand_dims(x_train, axis=3, name=None)\n",
        "x_test = tf.expand_dims(x_test, axis=3, name=None)\n",
        "x_train = tf.repeat(x_train, 3, axis=3)\n",
        "x_test = tf.repeat(x_test, 3, axis=3)\n",
        "# x_val = x_train[-2000:, :, :, :]\n",
        "# y_val = y_train[-2000:]\n",
        "# x_train = x_train[:-2000, :, :, :]\n",
        "# y_train = y_train[:-2000]\n",
        "x_val = x_test\n",
        "y_val =y_test\n",
        "\n",
        "num_classes=10\n",
        "\n",
        "# Convert labels to categorical\n",
        "y_train = tf.keras.utils.to_categorical(y_train, num_classes)\n",
        "y_val = tf.keras.utils.to_categorical(y_val, num_classes)\n",
        "y_test = tf.keras.utils.to_categorical(y_test, num_classes)"
      ]
    },
    {
      "cell_type": "code",
      "execution_count": 4,
      "metadata": {
        "colab": {
          "base_uri": "https://localhost:8080/"
        },
        "id": "XULUPg7FqMkz",
        "outputId": "aef8ee6c-802a-4079-da8f-23d7125d8e6b"
      },
      "outputs": [
        {
          "name": "stdout",
          "output_type": "stream",
          "text": [
            "Model: \"sequential\"\n",
            "_________________________________________________________________\n",
            " Layer (type)                Output Shape              Param #   \n",
            "=================================================================\n",
            " conv2d (Conv2D)             (None, 28, 28, 6)         456       \n",
            "                                                                 \n",
            " average_pooling2d (AverageP  (None, 14, 14, 6)        0         \n",
            " ooling2D)                                                       \n",
            "                                                                 \n",
            " conv2d_1 (Conv2D)           (None, 10, 10, 16)        2416      \n",
            "                                                                 \n",
            " average_pooling2d_1 (Averag  (None, 5, 5, 16)         0         \n",
            " ePooling2D)                                                     \n",
            "                                                                 \n",
            " conv2d_2 (Conv2D)           (None, 1, 1, 120)         48120     \n",
            "                                                                 \n",
            " flatten (Flatten)           (None, 120)               0         \n",
            "                                                                 \n",
            " dense (Dense)               (None, 84)                10164     \n",
            "                                                                 \n",
            " dense_1 (Dense)             (None, 10)                850       \n",
            "                                                                 \n",
            "=================================================================\n",
            "Total params: 62,006\n",
            "Trainable params: 62,006\n",
            "Non-trainable params: 0\n",
            "_________________________________________________________________\n"
          ]
        }
      ],
      "source": [
        "# lecunNet-5 structure based on its article\n",
        "model = models.Sequential()\n",
        "model.add(\n",
        "    layers.Conv2D(filters=6, kernel_size=5, activation='tanh', strides=1, input_shape=x_train.shape[1:]))\n",
        "model.add(layers.AveragePooling2D(pool_size=2))\n",
        "model.add(layers.Conv2D(filters=16, kernel_size=5, activation='tanh', strides=1))\n",
        "model.add(layers.AveragePooling2D(pool_size=2))\n",
        "model.add(layers.Conv2D(filters=120, kernel_size=5, strides=1, activation='tanh'))\n",
        "model.add(layers.Flatten())\n",
        "model.add(layers.Dense(84, activation='tanh'))\n",
        "model.add(layers.Dense(10, activation='softmax'))\n",
        "model.summary()"
      ]
    },
    {
      "cell_type": "code",
      "execution_count": 5,
      "metadata": {
        "id": "ZzdgYpgzqRc6"
      },
      "outputs": [],
      "source": [
        "# Model Setting\n",
        "learning_rate = 0.01\n",
        "weight_decay = 5e-4\n",
        "batch_size = 256\n",
        "epochs = 40\n",
        "optimizer = tf.keras.optimizers.SGD(learning_rate=learning_rate, decay=weight_decay)\n",
        "loss = tf.keras.losses.CategoricalCrossentropy()\n",
        "metrics = ['accuracy',\n",
        "                      tf.keras.metrics.Precision(),\n",
        "                      tf.keras.metrics.Recall(),\n",
        "                      tfa.metrics.F1Score(num_classes,average='macro'),\n",
        "                      tf.keras.metrics.SpecificityAtSensitivity(0.5),\n",
        "                      tf.keras.metrics.MeanAbsoluteError(),\n",
        "                      tfa.metrics.RSquare()]\n"
      ]
    },
    {
      "cell_type": "code",
      "execution_count": 6,
      "metadata": {
        "colab": {
          "base_uri": "https://localhost:8080/"
        },
        "id": "pc4asxDErZrK",
        "outputId": "a3653e54-a995-4c87-9e2a-01e9091e4783"
      },
      "outputs": [
        {
          "name": "stdout",
          "output_type": "stream",
          "text": [
            "Epoch 1/40\n",
            "235/235 [==============================] - 15s 23ms/step - loss: 1.7365 - accuracy: 0.5905 - precision: 0.9898 - recall: 0.0679 - f1_score: 0.5692 - specificity_at_sensitivity: 0.9508 - mean_absolute_error: 0.1577 - r_square: 0.1908 - val_loss: 0.9473 - val_accuracy: 0.8106 - val_precision: 0.9871 - val_recall: 0.4136 - val_f1_score: 0.8014 - val_specificity_at_sensitivity: 0.9982 - val_mean_absolute_error: 0.1114 - val_r_square: 0.5268\n",
            "Epoch 2/40\n",
            "235/235 [==============================] - 4s 18ms/step - loss: 0.7136 - accuracy: 0.8411 - precision: 0.9590 - recall: 0.6215 - f1_score: 0.8374 - specificity_at_sensitivity: 0.9988 - mean_absolute_error: 0.0863 - r_square: 0.6480 - val_loss: 0.5511 - val_accuracy: 0.8750 - val_precision: 0.9490 - val_recall: 0.7589 - val_f1_score: 0.8725 - val_specificity_at_sensitivity: 0.9993 - val_mean_absolute_error: 0.0682 - val_r_square: 0.7325\n",
            "Epoch 3/40\n",
            "235/235 [==============================] - 5s 21ms/step - loss: 0.5107 - accuracy: 0.8732 - precision: 0.9434 - recall: 0.7846 - f1_score: 0.8712 - specificity_at_sensitivity: 0.9994 - mean_absolute_error: 0.0619 - r_square: 0.7516 - val_loss: 0.4470 - val_accuracy: 0.8884 - val_precision: 0.9419 - val_recall: 0.8249 - val_f1_score: 0.8867 - val_specificity_at_sensitivity: 0.9995 - val_mean_absolute_error: 0.0544 - val_r_square: 0.7839\n",
            "Epoch 4/40\n",
            "235/235 [==============================] - 4s 19ms/step - loss: 0.4380 - accuracy: 0.8853 - precision: 0.9379 - recall: 0.8263 - f1_score: 0.8837 - specificity_at_sensitivity: 0.9996 - mean_absolute_error: 0.0521 - r_square: 0.7866 - val_loss: 0.3970 - val_accuracy: 0.8977 - val_precision: 0.9395 - val_recall: 0.8496 - val_f1_score: 0.8961 - val_specificity_at_sensitivity: 0.9996 - val_mean_absolute_error: 0.0473 - val_r_square: 0.8074\n",
            "Epoch 5/40\n",
            "235/235 [==============================] - 4s 18ms/step - loss: 0.3983 - accuracy: 0.8922 - precision: 0.9367 - recall: 0.8470 - f1_score: 0.8906 - specificity_at_sensitivity: 0.9996 - mean_absolute_error: 0.0466 - r_square: 0.8053 - val_loss: 0.3665 - val_accuracy: 0.9045 - val_precision: 0.9401 - val_recall: 0.8646 - val_f1_score: 0.9032 - val_specificity_at_sensitivity: 0.9996 - val_mean_absolute_error: 0.0431 - val_r_square: 0.8217\n",
            "Epoch 6/40\n",
            "235/235 [==============================] - 5s 21ms/step - loss: 0.3721 - accuracy: 0.8971 - precision: 0.9359 - recall: 0.8583 - f1_score: 0.8956 - specificity_at_sensitivity: 0.9997 - mean_absolute_error: 0.0429 - r_square: 0.8175 - val_loss: 0.3448 - val_accuracy: 0.9083 - val_precision: 0.9389 - val_recall: 0.8760 - val_f1_score: 0.9072 - val_specificity_at_sensitivity: 0.9997 - val_mean_absolute_error: 0.0401 - val_r_square: 0.8318\n",
            "Epoch 7/40\n",
            "235/235 [==============================] - 3s 12ms/step - loss: 0.3529 - accuracy: 0.9012 - precision: 0.9366 - recall: 0.8679 - f1_score: 0.8999 - specificity_at_sensitivity: 0.9997 - mean_absolute_error: 0.0403 - r_square: 0.8264 - val_loss: 0.3288 - val_accuracy: 0.9114 - val_precision: 0.9399 - val_recall: 0.8813 - val_f1_score: 0.9102 - val_specificity_at_sensitivity: 0.9997 - val_mean_absolute_error: 0.0378 - val_r_square: 0.8392\n",
            "Epoch 8/40\n",
            "235/235 [==============================] - 2s 10ms/step - loss: 0.3378 - accuracy: 0.9047 - precision: 0.9373 - recall: 0.8738 - f1_score: 0.9034 - specificity_at_sensitivity: 0.9997 - mean_absolute_error: 0.0383 - r_square: 0.8335 - val_loss: 0.3154 - val_accuracy: 0.9143 - val_precision: 0.9402 - val_recall: 0.8868 - val_f1_score: 0.9132 - val_specificity_at_sensitivity: 0.9998 - val_mean_absolute_error: 0.0360 - val_r_square: 0.8454\n",
            "Epoch 9/40\n",
            "235/235 [==============================] - 2s 10ms/step - loss: 0.3254 - accuracy: 0.9074 - precision: 0.9381 - recall: 0.8788 - f1_score: 0.9062 - specificity_at_sensitivity: 0.9997 - mean_absolute_error: 0.0367 - r_square: 0.8393 - val_loss: 0.3046 - val_accuracy: 0.9166 - val_precision: 0.9419 - val_recall: 0.8913 - val_f1_score: 0.9156 - val_specificity_at_sensitivity: 0.9998 - val_mean_absolute_error: 0.0346 - val_r_square: 0.8506\n",
            "Epoch 10/40\n",
            "235/235 [==============================] - 3s 11ms/step - loss: 0.3149 - accuracy: 0.9103 - precision: 0.9391 - recall: 0.8835 - f1_score: 0.9092 - specificity_at_sensitivity: 0.9998 - mean_absolute_error: 0.0353 - r_square: 0.8443 - val_loss: 0.2953 - val_accuracy: 0.9185 - val_precision: 0.9420 - val_recall: 0.8945 - val_f1_score: 0.9175 - val_specificity_at_sensitivity: 0.9998 - val_mean_absolute_error: 0.0334 - val_r_square: 0.8551\n",
            "Epoch 11/40\n",
            "235/235 [==============================] - 3s 12ms/step - loss: 0.3058 - accuracy: 0.9128 - precision: 0.9402 - recall: 0.8871 - f1_score: 0.9116 - specificity_at_sensitivity: 0.9998 - mean_absolute_error: 0.0342 - r_square: 0.8486 - val_loss: 0.2870 - val_accuracy: 0.9203 - val_precision: 0.9428 - val_recall: 0.8977 - val_f1_score: 0.9194 - val_specificity_at_sensitivity: 0.9998 - val_mean_absolute_error: 0.0323 - val_r_square: 0.8590\n",
            "Epoch 12/40\n",
            "235/235 [==============================] - 2s 10ms/step - loss: 0.2978 - accuracy: 0.9146 - precision: 0.9409 - recall: 0.8903 - f1_score: 0.9135 - specificity_at_sensitivity: 0.9998 - mean_absolute_error: 0.0332 - r_square: 0.8525 - val_loss: 0.2798 - val_accuracy: 0.9232 - val_precision: 0.9435 - val_recall: 0.9002 - val_f1_score: 0.9223 - val_specificity_at_sensitivity: 0.9998 - val_mean_absolute_error: 0.0314 - val_r_square: 0.8625\n",
            "Epoch 13/40\n",
            "235/235 [==============================] - 2s 10ms/step - loss: 0.2906 - accuracy: 0.9168 - precision: 0.9419 - recall: 0.8935 - f1_score: 0.9158 - specificity_at_sensitivity: 0.9998 - mean_absolute_error: 0.0324 - r_square: 0.8559 - val_loss: 0.2732 - val_accuracy: 0.9238 - val_precision: 0.9453 - val_recall: 0.9027 - val_f1_score: 0.9230 - val_specificity_at_sensitivity: 0.9998 - val_mean_absolute_error: 0.0306 - val_r_square: 0.8657\n",
            "Epoch 14/40\n",
            "235/235 [==============================] - 2s 10ms/step - loss: 0.2841 - accuracy: 0.9186 - precision: 0.9429 - recall: 0.8960 - f1_score: 0.9176 - specificity_at_sensitivity: 0.9998 - mean_absolute_error: 0.0316 - r_square: 0.8591 - val_loss: 0.2671 - val_accuracy: 0.9256 - val_precision: 0.9461 - val_recall: 0.9056 - val_f1_score: 0.9248 - val_specificity_at_sensitivity: 0.9999 - val_mean_absolute_error: 0.0299 - val_r_square: 0.8685\n",
            "Epoch 15/40\n",
            "235/235 [==============================] - 2s 11ms/step - loss: 0.2781 - accuracy: 0.9201 - precision: 0.9434 - recall: 0.8986 - f1_score: 0.9191 - specificity_at_sensitivity: 0.9998 - mean_absolute_error: 0.0309 - r_square: 0.8620 - val_loss: 0.2618 - val_accuracy: 0.9264 - val_precision: 0.9465 - val_recall: 0.9084 - val_f1_score: 0.9256 - val_specificity_at_sensitivity: 0.9999 - val_mean_absolute_error: 0.0292 - val_r_square: 0.8710\n",
            "Epoch 16/40\n",
            "235/235 [==============================] - 3s 13ms/step - loss: 0.2726 - accuracy: 0.9215 - precision: 0.9447 - recall: 0.9008 - f1_score: 0.9205 - specificity_at_sensitivity: 0.9998 - mean_absolute_error: 0.0302 - r_square: 0.8646 - val_loss: 0.2571 - val_accuracy: 0.9296 - val_precision: 0.9474 - val_recall: 0.9101 - val_f1_score: 0.9289 - val_specificity_at_sensitivity: 0.9999 - val_mean_absolute_error: 0.0287 - val_r_square: 0.8735\n",
            "Epoch 17/40\n",
            "235/235 [==============================] - 2s 10ms/step - loss: 0.2677 - accuracy: 0.9230 - precision: 0.9456 - recall: 0.9029 - f1_score: 0.9221 - specificity_at_sensitivity: 0.9999 - mean_absolute_error: 0.0297 - r_square: 0.8671 - val_loss: 0.2520 - val_accuracy: 0.9299 - val_precision: 0.9479 - val_recall: 0.9121 - val_f1_score: 0.9292 - val_specificity_at_sensitivity: 0.9999 - val_mean_absolute_error: 0.0281 - val_r_square: 0.8758\n",
            "Epoch 18/40\n",
            "235/235 [==============================] - 2s 10ms/step - loss: 0.2629 - accuracy: 0.9241 - precision: 0.9459 - recall: 0.9048 - f1_score: 0.9233 - specificity_at_sensitivity: 0.9999 - mean_absolute_error: 0.0291 - r_square: 0.8693 - val_loss: 0.2481 - val_accuracy: 0.9316 - val_precision: 0.9489 - val_recall: 0.9137 - val_f1_score: 0.9309 - val_specificity_at_sensitivity: 0.9999 - val_mean_absolute_error: 0.0277 - val_r_square: 0.8779\n",
            "Epoch 19/40\n",
            "235/235 [==============================] - 2s 10ms/step - loss: 0.2586 - accuracy: 0.9253 - precision: 0.9470 - recall: 0.9062 - f1_score: 0.9244 - specificity_at_sensitivity: 0.9999 - mean_absolute_error: 0.0287 - r_square: 0.8715 - val_loss: 0.2438 - val_accuracy: 0.9320 - val_precision: 0.9492 - val_recall: 0.9145 - val_f1_score: 0.9313 - val_specificity_at_sensitivity: 0.9999 - val_mean_absolute_error: 0.0272 - val_r_square: 0.8797\n",
            "Epoch 20/40\n",
            "235/235 [==============================] - 2s 10ms/step - loss: 0.2545 - accuracy: 0.9267 - precision: 0.9477 - recall: 0.9080 - f1_score: 0.9259 - specificity_at_sensitivity: 0.9999 - mean_absolute_error: 0.0282 - r_square: 0.8735 - val_loss: 0.2401 - val_accuracy: 0.9334 - val_precision: 0.9500 - val_recall: 0.9167 - val_f1_score: 0.9327 - val_specificity_at_sensitivity: 0.9999 - val_mean_absolute_error: 0.0267 - val_r_square: 0.8817\n",
            "Epoch 21/40\n",
            "235/235 [==============================] - 3s 13ms/step - loss: 0.2506 - accuracy: 0.9278 - precision: 0.9484 - recall: 0.9094 - f1_score: 0.9269 - specificity_at_sensitivity: 0.9999 - mean_absolute_error: 0.0278 - r_square: 0.8754 - val_loss: 0.2363 - val_accuracy: 0.9339 - val_precision: 0.9506 - val_recall: 0.9184 - val_f1_score: 0.9333 - val_specificity_at_sensitivity: 0.9999 - val_mean_absolute_error: 0.0263 - val_r_square: 0.8835\n",
            "Epoch 22/40\n",
            "235/235 [==============================] - 2s 10ms/step - loss: 0.2470 - accuracy: 0.9287 - precision: 0.9491 - recall: 0.9107 - f1_score: 0.9279 - specificity_at_sensitivity: 0.9999 - mean_absolute_error: 0.0274 - r_square: 0.8771 - val_loss: 0.2331 - val_accuracy: 0.9351 - val_precision: 0.9511 - val_recall: 0.9200 - val_f1_score: 0.9345 - val_specificity_at_sensitivity: 0.9999 - val_mean_absolute_error: 0.0260 - val_r_square: 0.8852\n",
            "Epoch 23/40\n",
            "235/235 [==============================] - 2s 10ms/step - loss: 0.2435 - accuracy: 0.9296 - precision: 0.9497 - recall: 0.9119 - f1_score: 0.9288 - specificity_at_sensitivity: 0.9999 - mean_absolute_error: 0.0270 - r_square: 0.8789 - val_loss: 0.2299 - val_accuracy: 0.9354 - val_precision: 0.9520 - val_recall: 0.9207 - val_f1_score: 0.9348 - val_specificity_at_sensitivity: 0.9999 - val_mean_absolute_error: 0.0256 - val_r_square: 0.8867\n",
            "Epoch 24/40\n",
            "235/235 [==============================] - 2s 10ms/step - loss: 0.2403 - accuracy: 0.9307 - precision: 0.9505 - recall: 0.9134 - f1_score: 0.9299 - specificity_at_sensitivity: 0.9999 - mean_absolute_error: 0.0267 - r_square: 0.8805 - val_loss: 0.2270 - val_accuracy: 0.9366 - val_precision: 0.9519 - val_recall: 0.9214 - val_f1_score: 0.9360 - val_specificity_at_sensitivity: 0.9999 - val_mean_absolute_error: 0.0253 - val_r_square: 0.8881\n",
            "Epoch 25/40\n",
            "235/235 [==============================] - 2s 10ms/step - loss: 0.2372 - accuracy: 0.9315 - precision: 0.9510 - recall: 0.9142 - f1_score: 0.9308 - specificity_at_sensitivity: 0.9999 - mean_absolute_error: 0.0263 - r_square: 0.8820 - val_loss: 0.2239 - val_accuracy: 0.9374 - val_precision: 0.9525 - val_recall: 0.9224 - val_f1_score: 0.9368 - val_specificity_at_sensitivity: 0.9999 - val_mean_absolute_error: 0.0250 - val_r_square: 0.8896\n",
            "Epoch 26/40\n",
            "235/235 [==============================] - 3s 13ms/step - loss: 0.2342 - accuracy: 0.9325 - precision: 0.9517 - recall: 0.9154 - f1_score: 0.9318 - specificity_at_sensitivity: 0.9999 - mean_absolute_error: 0.0260 - r_square: 0.8834 - val_loss: 0.2213 - val_accuracy: 0.9375 - val_precision: 0.9533 - val_recall: 0.9235 - val_f1_score: 0.9369 - val_specificity_at_sensitivity: 0.9999 - val_mean_absolute_error: 0.0247 - val_r_square: 0.8909\n",
            "Epoch 27/40\n",
            "235/235 [==============================] - 2s 11ms/step - loss: 0.2314 - accuracy: 0.9331 - precision: 0.9522 - recall: 0.9165 - f1_score: 0.9324 - specificity_at_sensitivity: 0.9999 - mean_absolute_error: 0.0257 - r_square: 0.8849 - val_loss: 0.2187 - val_accuracy: 0.9383 - val_precision: 0.9539 - val_recall: 0.9238 - val_f1_score: 0.9378 - val_specificity_at_sensitivity: 0.9999 - val_mean_absolute_error: 0.0244 - val_r_square: 0.8922\n",
            "Epoch 28/40\n",
            "235/235 [==============================] - 2s 10ms/step - loss: 0.2287 - accuracy: 0.9342 - precision: 0.9525 - recall: 0.9180 - f1_score: 0.9335 - specificity_at_sensitivity: 0.9999 - mean_absolute_error: 0.0254 - r_square: 0.8862 - val_loss: 0.2161 - val_accuracy: 0.9383 - val_precision: 0.9541 - val_recall: 0.9252 - val_f1_score: 0.9378 - val_specificity_at_sensitivity: 0.9999 - val_mean_absolute_error: 0.0241 - val_r_square: 0.8934\n",
            "Epoch 29/40\n",
            "235/235 [==============================] - 2s 10ms/step - loss: 0.2261 - accuracy: 0.9349 - precision: 0.9531 - recall: 0.9190 - f1_score: 0.9342 - specificity_at_sensitivity: 0.9999 - mean_absolute_error: 0.0252 - r_square: 0.8875 - val_loss: 0.2137 - val_accuracy: 0.9389 - val_precision: 0.9548 - val_recall: 0.9265 - val_f1_score: 0.9384 - val_specificity_at_sensitivity: 0.9999 - val_mean_absolute_error: 0.0239 - val_r_square: 0.8945\n",
            "Epoch 30/40\n",
            "235/235 [==============================] - 3s 11ms/step - loss: 0.2236 - accuracy: 0.9358 - precision: 0.9537 - recall: 0.9199 - f1_score: 0.9351 - specificity_at_sensitivity: 0.9999 - mean_absolute_error: 0.0249 - r_square: 0.8887 - val_loss: 0.2115 - val_accuracy: 0.9393 - val_precision: 0.9552 - val_recall: 0.9271 - val_f1_score: 0.9388 - val_specificity_at_sensitivity: 0.9999 - val_mean_absolute_error: 0.0237 - val_r_square: 0.8957\n",
            "Epoch 31/40\n",
            "235/235 [==============================] - 3s 13ms/step - loss: 0.2213 - accuracy: 0.9367 - precision: 0.9538 - recall: 0.9207 - f1_score: 0.9361 - specificity_at_sensitivity: 0.9999 - mean_absolute_error: 0.0247 - r_square: 0.8899 - val_loss: 0.2092 - val_accuracy: 0.9397 - val_precision: 0.9556 - val_recall: 0.9275 - val_f1_score: 0.9392 - val_specificity_at_sensitivity: 0.9999 - val_mean_absolute_error: 0.0234 - val_r_square: 0.8968\n",
            "Epoch 32/40\n",
            "235/235 [==============================] - 2s 10ms/step - loss: 0.2190 - accuracy: 0.9371 - precision: 0.9545 - recall: 0.9215 - f1_score: 0.9365 - specificity_at_sensitivity: 0.9999 - mean_absolute_error: 0.0244 - r_square: 0.8910 - val_loss: 0.2072 - val_accuracy: 0.9396 - val_precision: 0.9553 - val_recall: 0.9286 - val_f1_score: 0.9391 - val_specificity_at_sensitivity: 0.9999 - val_mean_absolute_error: 0.0232 - val_r_square: 0.8978\n",
            "Epoch 33/40\n",
            "235/235 [==============================] - 2s 10ms/step - loss: 0.2169 - accuracy: 0.9382 - precision: 0.9547 - recall: 0.9222 - f1_score: 0.9375 - specificity_at_sensitivity: 0.9999 - mean_absolute_error: 0.0242 - r_square: 0.8921 - val_loss: 0.2052 - val_accuracy: 0.9404 - val_precision: 0.9562 - val_recall: 0.9291 - val_f1_score: 0.9399 - val_specificity_at_sensitivity: 0.9999 - val_mean_absolute_error: 0.0230 - val_r_square: 0.8988\n",
            "Epoch 34/40\n",
            "235/235 [==============================] - 2s 10ms/step - loss: 0.2147 - accuracy: 0.9388 - precision: 0.9548 - recall: 0.9234 - f1_score: 0.9382 - specificity_at_sensitivity: 0.9999 - mean_absolute_error: 0.0240 - r_square: 0.8931 - val_loss: 0.2031 - val_accuracy: 0.9406 - val_precision: 0.9562 - val_recall: 0.9294 - val_f1_score: 0.9401 - val_specificity_at_sensitivity: 0.9999 - val_mean_absolute_error: 0.0227 - val_r_square: 0.8998\n",
            "Epoch 35/40\n",
            "235/235 [==============================] - 3s 11ms/step - loss: 0.2127 - accuracy: 0.9394 - precision: 0.9552 - recall: 0.9240 - f1_score: 0.9388 - specificity_at_sensitivity: 0.9999 - mean_absolute_error: 0.0237 - r_square: 0.8941 - val_loss: 0.2014 - val_accuracy: 0.9409 - val_precision: 0.9566 - val_recall: 0.9304 - val_f1_score: 0.9404 - val_specificity_at_sensitivity: 0.9999 - val_mean_absolute_error: 0.0226 - val_r_square: 0.9007\n",
            "Epoch 36/40\n",
            "235/235 [==============================] - 4s 17ms/step - loss: 0.2108 - accuracy: 0.9401 - precision: 0.9555 - recall: 0.9249 - f1_score: 0.9395 - specificity_at_sensitivity: 0.9999 - mean_absolute_error: 0.0236 - r_square: 0.8951 - val_loss: 0.1995 - val_accuracy: 0.9418 - val_precision: 0.9571 - val_recall: 0.9308 - val_f1_score: 0.9413 - val_specificity_at_sensitivity: 0.9999 - val_mean_absolute_error: 0.0224 - val_r_square: 0.9016\n",
            "Epoch 37/40\n",
            "235/235 [==============================] - 3s 12ms/step - loss: 0.2089 - accuracy: 0.9404 - precision: 0.9561 - recall: 0.9255 - f1_score: 0.9398 - specificity_at_sensitivity: 0.9999 - mean_absolute_error: 0.0234 - r_square: 0.8961 - val_loss: 0.1977 - val_accuracy: 0.9421 - val_precision: 0.9572 - val_recall: 0.9314 - val_f1_score: 0.9416 - val_specificity_at_sensitivity: 0.9999 - val_mean_absolute_error: 0.0222 - val_r_square: 0.9025\n",
            "Epoch 38/40\n",
            "235/235 [==============================] - 2s 10ms/step - loss: 0.2071 - accuracy: 0.9409 - precision: 0.9565 - recall: 0.9261 - f1_score: 0.9403 - specificity_at_sensitivity: 0.9999 - mean_absolute_error: 0.0232 - r_square: 0.8970 - val_loss: 0.1959 - val_accuracy: 0.9426 - val_precision: 0.9576 - val_recall: 0.9319 - val_f1_score: 0.9421 - val_specificity_at_sensitivity: 0.9999 - val_mean_absolute_error: 0.0220 - val_r_square: 0.9033\n",
            "Epoch 39/40\n",
            "235/235 [==============================] - 2s 10ms/step - loss: 0.2053 - accuracy: 0.9414 - precision: 0.9565 - recall: 0.9270 - f1_score: 0.9409 - specificity_at_sensitivity: 0.9999 - mean_absolute_error: 0.0230 - r_square: 0.8978 - val_loss: 0.1944 - val_accuracy: 0.9426 - val_precision: 0.9579 - val_recall: 0.9321 - val_f1_score: 0.9421 - val_specificity_at_sensitivity: 1.0000 - val_mean_absolute_error: 0.0218 - val_r_square: 0.9041\n",
            "Epoch 40/40\n",
            "235/235 [==============================] - 3s 14ms/step - loss: 0.2036 - accuracy: 0.9416 - precision: 0.9572 - recall: 0.9276 - f1_score: 0.9411 - specificity_at_sensitivity: 0.9999 - mean_absolute_error: 0.0228 - r_square: 0.8987 - val_loss: 0.1928 - val_accuracy: 0.9434 - val_precision: 0.9584 - val_recall: 0.9323 - val_f1_score: 0.9429 - val_specificity_at_sensitivity: 1.0000 - val_mean_absolute_error: 0.0216 - val_r_square: 0.9048\n",
            "40/40 [==============================] - 0s 11ms/step - loss: 0.1928 - accuracy: 0.9434 - precision: 0.9584 - recall: 0.9323 - f1_score: 0.9429 - specificity_at_sensitivity: 1.0000 - mean_absolute_error: 0.0216 - r_square: 0.9048\n",
            "[0.1928238868713379, 0.9434000253677368, 0.9583675861358643, 0.9322999715805054, 0.9428941607475281, 0.9999777674674988, 0.02164941467344761, 0.9047871828079224]\n"
          ]
        }
      ],
      "source": [
        "# Compile model \n",
        "model.compile(optimizer=optimizer, loss=loss, metrics=metrics)\n",
        "# Train Model\n",
        "history = model.fit(x_train, y_train, batch_size=batch_size, epochs=epochs, validation_data=(x_val, y_val))\n",
        "\n",
        "# Model Evaluation\n",
        "evaluate_result = model.evaluate(x_test, y_test, batch_size=batch_size)\n",
        "print(evaluate_result)"
      ]
    },
    {
      "cell_type": "code",
      "execution_count": 7,
      "metadata": {
        "colab": {
          "base_uri": "https://localhost:8080/"
        },
        "id": "L721aGoL7hSB",
        "outputId": "862939f5-2d8d-4c42-f802-c206b51bc75d"
      },
      "outputs": [
        {
          "name": "stdout",
          "output_type": "stream",
          "text": [
            "                        Train      Test\n",
            "Loss                 0.318904  0.192824\n",
            "Accuracy             0.912996  0.943400\n",
            "Precision            0.949017  0.958368\n",
            "Recall               0.872228  0.932300\n",
            "F1 Score             0.911507  0.942894\n",
            "Specificity          0.998577  0.999978\n",
            "Mean Absolute Error  0.035144  0.021649\n",
            "R2 Score             0.843427  0.904787\n"
          ]
        }
      ],
      "source": [
        "# Results\n",
        "train_results = train_result(history, module_type='Train')\n",
        "test_results = test_result(evaluate_result, module_type='Test')\n",
        "final_result = pd.concat([train_results, test_results], axis=1)\n",
        "print(final_result)"
      ]
    },
    {
      "cell_type": "code",
      "execution_count": 8,
      "metadata": {
        "colab": {
          "base_uri": "https://localhost:8080/",
          "height": 573
        },
        "id": "8sNpXY4GyXfH",
        "outputId": "8fa43983-72ab-48f2-ce9c-33305e299f92"
      },
      "outputs": [
        {
          "data": {
            "image/png": "[encoded data removed]",
            "text/plain": [
              "<Figure size 432x288 with 1 Axes>"
            ]
          },
          "metadata": {
            "needs_background": "light"
          },
          "output_type": "display_data"
        },
        {
          "data": {
            "image/png": "[encoded data removed]",
            "text/plain": [
              "<Figure size 432x288 with 1 Axes>"
            ]
          },
          "metadata": {
            "needs_background": "light"
          },
          "output_type": "display_data"
        }
      ],
      "source": [
        "# Plot Accuracy and Loss\n",
        "import matplotlib.pyplot as plt\n",
        "plt.figure()\n",
        "plt.plot(history.history['loss'])\n",
        "plt.plot(history.history['val_loss'])\n",
        "plt.title('Training Loss vs Validation Loss')\n",
        "plt.xlabel('Epochs')\n",
        "plt.ylabel('Loss')\n",
        "plt.legend(['Train', 'Val'])\n",
        "plt.show()\n",
        "\n",
        "plt.figure()\n",
        "plt.plot(history.history['accuracy'])\n",
        "plt.plot(history.history['val_accuracy'])\n",
        "plt.title('Training Accuracy vs Validation Accuracy')\n",
        "plt.xlabel('Epochs')\n",
        "plt.ylabel('Accuracy')\n",
        "plt.legend(['Train', 'Val'])\n",
        "plt.show()\n"
      ]
    }
  ],
  "metadata": {
    "accelerator": "GPU",
    "colab": {
      "provenance": []
    },
    "gpuClass": "standard",
    "kernelspec": {
      "display_name": "Python 3",
      "name": "python3"
    },
    "language_info": {
      "name": "python"
    }
  },
  "nbformat": 4,
  "nbformat_minor": 0
}
